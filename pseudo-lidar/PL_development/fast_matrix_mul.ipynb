{
 "cells": [
  {
   "cell_type": "markdown",
   "metadata": {},
   "source": [
    "# How fast can I do matrix multiplications?\n",
    "\n",
    "Things to try:\n",
    "- [X] numpy\n",
    "- [X] pytorch tensor\n",
    "- [X] numba\n",
    "- [ ] gpu"
   ]
  },
  {
   "cell_type": "code",
   "execution_count": 189,
   "metadata": {},
   "outputs": [
    {
     "data": {
      "text/plain": [
       "(4, 4)"
      ]
     },
     "execution_count": 189,
     "metadata": {},
     "output_type": "execute_result"
    }
   ],
   "source": [
    "import numpy as np\n",
    "\n",
    "# T is the transformation matrix\n",
    "# T = [[R, T]\n",
    "#      [0, 1]]\n",
    "# TODO: make tex\n",
    "\n",
    "T = np.array([[ 7.533745e-03, -9.999714e-01,-6.166020e-04, -4.069766e-03],\n",
    "             [ 1.480249e-02,  7.280733e-04, -9.998902e-01, -7.631618e-02],\n",
    "             [ 9.998621e-01,  7.523790e-03,  1.480755e-02, -2.717806e-01],\n",
    "             [ 0.000000e+00,  0.000000e+00,  0.000000e+00,  1.000000e+00]])\n",
    "\n",
    "T.shape"
   ]
  },
  {
   "cell_type": "code",
   "execution_count": 190,
   "metadata": {},
   "outputs": [
    {
     "data": {
      "text/plain": [
       "(428032, 4)"
      ]
     },
     "execution_count": 190,
     "metadata": {},
     "output_type": "execute_result"
    }
   ],
   "source": [
    "pnt_cloud = np.random.rand(428032, 4)\n",
    "pnt_cloud.shape"
   ]
  },
  {
   "cell_type": "markdown",
   "metadata": {},
   "source": [
    "## Using Numpy"
   ]
  },
  {
   "cell_type": "code",
   "execution_count": 191,
   "metadata": {},
   "outputs": [],
   "source": [
    "def transform(pnt_cloud, T):\n",
    "    \n",
    "    i = 0\n",
    "    for pnt in pnt_cloud:\n",
    "        xyz_pnt = np.dot(T, pnt)\n",
    "        \n",
    "        if xyz_pnt[0] > 0:\n",
    "            depth_array[i] = xyz_pnt[0]\n",
    "            \n",
    "        i += 1\n",
    "            \n",
    "        \n",
    "    return depth_array"
   ]
  },
  {
   "cell_type": "code",
   "execution_count": 192,
   "metadata": {},
   "outputs": [
    {
     "name": "stdout",
     "output_type": "stream",
     "text": [
      "CPU times: user 670 ms, sys: 7.91 ms, total: 678 ms\n",
      "Wall time: 674 ms\n"
     ]
    }
   ],
   "source": [
    "%time cloud = transform(pnt_cloud, T)"
   ]
  },
  {
   "cell_type": "markdown",
   "metadata": {},
   "source": [
    "## Using Numba"
   ]
  },
  {
   "cell_type": "code",
   "execution_count": 204,
   "metadata": {},
   "outputs": [],
   "source": [
    "from numba import njit"
   ]
  },
  {
   "cell_type": "code",
   "execution_count": 205,
   "metadata": {},
   "outputs": [],
   "source": [
    "@njit\n",
    "def transform(pnt_cloud, T):\n",
    "    \n",
    "    depth_array = np.zeros(pnt_cloud.shape[0])\n",
    "    \n",
    "    i = 0\n",
    "    for pnt in pnt_cloud:\n",
    "        xyz_pnt = np.dot(T, pnt)\n",
    "        \n",
    "        if xyz_pnt[0] > 0:\n",
    "            depth_array[i] = xyz_pnt[0]\n",
    "            \n",
    "        i += 1\n",
    "            \n",
    "        \n",
    "    return depth_array"
   ]
  },
  {
   "cell_type": "code",
   "execution_count": 207,
   "metadata": {},
   "outputs": [
    {
     "name": "stdout",
     "output_type": "stream",
     "text": [
      "CPU times: user 124 ms, sys: 0 ns, total: 124 ms\n",
      "Wall time: 124 ms\n"
     ]
    }
   ],
   "source": [
    "%time cloud = transform(pnt_cloud, T)"
   ]
  },
  {
   "cell_type": "markdown",
   "metadata": {},
   "source": [
    "## Using torch tensor\n"
   ]
  },
  {
   "cell_type": "code",
   "execution_count": 196,
   "metadata": {},
   "outputs": [],
   "source": [
    "import torch"
   ]
  },
  {
   "cell_type": "code",
   "execution_count": 197,
   "metadata": {},
   "outputs": [],
   "source": [
    "tensor_cld = torch.tensor(pnt_cloud)\n",
    "tensor_T   = torch.tensor(T)"
   ]
  },
  {
   "cell_type": "code",
   "execution_count": 198,
   "metadata": {},
   "outputs": [],
   "source": [
    "def transform(pnt_cloud, T, depth_array):\n",
    "    i = 0\n",
    "    for pnt in pnt_cloud:\n",
    "        xyz_pnt = np.dot(T, pnt)\n",
    "        \n",
    "        if xyz_pnt[0] > 0:\n",
    "            depth_array[i] = xyz_pnt[0]\n",
    "            \n",
    "        i += 1\n",
    "            \n",
    "        \n",
    "    return depth_array"
   ]
  },
  {
   "cell_type": "code",
   "execution_count": 199,
   "metadata": {},
   "outputs": [
    {
     "name": "stdout",
     "output_type": "stream",
     "text": [
      "CPU times: user 5.9 ms, sys: 56 µs, total: 5.96 ms\n",
      "Wall time: 2.62 ms\n",
      "CPU times: user 6.15 s, sys: 28.1 ms, total: 6.18 s\n",
      "Wall time: 6.09 s\n"
     ]
    }
   ],
   "source": [
    "%time  depth_array = torch.tensor(np.zeros(pnt_cloud.shape[0]))\n",
    "%time cloud_tensor = transform(tensor_cld, tensor_T, depth_array)"
   ]
  },
  {
   "cell_type": "markdown",
   "metadata": {},
   "source": [
    "## Making Numba Faster by predefining initialisation"
   ]
  },
  {
   "cell_type": "code",
   "execution_count": 208,
   "metadata": {},
   "outputs": [],
   "source": [
    "@njit\n",
    "def transform(pnt_cloud, T, depth_array):\n",
    "    \n",
    "    i = 0\n",
    "    for pnt in pnt_cloud:\n",
    "        xyz_pnt = np.dot(T, pnt)\n",
    "        \n",
    "        if xyz_pnt[0] > 0:\n",
    "            depth_array[i] = xyz_pnt[0]\n",
    "            \n",
    "        i += 1\n",
    "            \n",
    "        \n",
    "    return depth_array"
   ]
  },
  {
   "cell_type": "code",
   "execution_count": 210,
   "metadata": {},
   "outputs": [
    {
     "name": "stdout",
     "output_type": "stream",
     "text": [
      "CPU times: user 533 µs, sys: 5 µs, total: 538 µs\n",
      "Wall time: 308 µs\n",
      "CPU times: user 124 ms, sys: 9 µs, total: 124 ms\n",
      "Wall time: 123 ms\n"
     ]
    }
   ],
   "source": [
    "%time depth_array = np.zeros(pnt_cloud.shape[0])\n",
    "%time cloud_f = transform(pnt_cloud, T, depth_array)"
   ]
  },
  {
   "cell_type": "code",
   "execution_count": 211,
   "metadata": {},
   "outputs": [
    {
     "data": {
      "text/plain": [
       "True"
      ]
     },
     "execution_count": 211,
     "metadata": {},
     "output_type": "execute_result"
    }
   ],
   "source": [
    "np.all(cloud_f == cloud)"
   ]
  },
  {
   "cell_type": "markdown",
   "metadata": {},
   "source": [
    "Seems like predefining doest play a major part, for obvious reasons."
   ]
  }
 ],
 "metadata": {
  "kernelspec": {
   "display_name": "Python 3",
   "language": "python",
   "name": "python3"
  },
  "language_info": {
   "codemirror_mode": {
    "name": "ipython",
    "version": 3
   },
   "file_extension": ".py",
   "mimetype": "text/x-python",
   "name": "python",
   "nbconvert_exporter": "python",
   "pygments_lexer": "ipython3",
   "version": "3.8.3"
  }
 },
 "nbformat": 4,
 "nbformat_minor": 4
}
