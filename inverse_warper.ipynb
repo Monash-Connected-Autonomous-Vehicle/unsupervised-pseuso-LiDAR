{
 "cells": [
  {
   "cell_type": "code",
   "execution_count": 1,
   "id": "53a82b1e",
   "metadata": {},
   "outputs": [
    {
     "name": "stdout",
     "output_type": "stream",
     "text": [
      "Saving checkpoint..\n",
      "Initializing samples..\n"
     ]
    },
    {
     "ename": "FileNotFoundError",
     "evalue": "[Errno 2] No such file or directory: '../DATASETS/KITTI/2011_09_26/calib_velo_to_cam.txt'",
     "output_type": "error",
     "traceback": [
      "\u001b[0;31m---------------------------------------------------------------------------\u001b[0m",
      "\u001b[0;31mFileNotFoundError\u001b[0m                         Traceback (most recent call last)",
      "\u001b[0;32m/var/folders/pr/d3b7hkzs7z17m30n82xq1cdw0000gn/T/ipykernel_1601/1061695494.py\u001b[0m in \u001b[0;36m<module>\u001b[0;34m\u001b[0m\n\u001b[1;32m      4\u001b[0m     \u001b[0mconfig\u001b[0m \u001b[0;34m=\u001b[0m \u001b[0myaml\u001b[0m\u001b[0;34m.\u001b[0m\u001b[0mfull_load\u001b[0m\u001b[0;34m(\u001b[0m\u001b[0mfile\u001b[0m\u001b[0;34m)\u001b[0m\u001b[0;34m\u001b[0m\u001b[0;34m\u001b[0m\u001b[0m\n\u001b[1;32m      5\u001b[0m \u001b[0;34m\u001b[0m\u001b[0m\n\u001b[0;32m----> 6\u001b[0;31m \u001b[0mtrainer\u001b[0m \u001b[0;34m=\u001b[0m \u001b[0mTrainer\u001b[0m\u001b[0;34m(\u001b[0m\u001b[0mconfig\u001b[0m\u001b[0;34m)\u001b[0m\u001b[0;34m\u001b[0m\u001b[0;34m\u001b[0m\u001b[0m\n\u001b[0m",
      "\u001b[0;32m~/Desktop/Projects/FYP/unsupervised-pseuso-LiDAR/trainer.py\u001b[0m in \u001b[0;36m__init__\u001b[0;34m(self, config)\u001b[0m\n\u001b[1;32m     98\u001b[0m \u001b[0;34m\u001b[0m\u001b[0m\n\u001b[1;32m     99\u001b[0m         \u001b[0;31m# init dataset\u001b[0m\u001b[0;34m\u001b[0m\u001b[0;34m\u001b[0m\u001b[0;34m\u001b[0m\u001b[0m\n\u001b[0;32m--> 100\u001b[0;31m         \u001b[0mself\u001b[0m\u001b[0;34m.\u001b[0m\u001b[0mdataset\u001b[0m \u001b[0;34m=\u001b[0m \u001b[0mUnSupKittiDataset\u001b[0m\u001b[0;34m(\u001b[0m\u001b[0mconfig\u001b[0m\u001b[0;34m,\u001b[0m \u001b[0mtransforms\u001b[0m\u001b[0;34m=\u001b[0m\u001b[0mtransform\u001b[0m\u001b[0;34m)\u001b[0m\u001b[0;34m\u001b[0m\u001b[0;34m\u001b[0m\u001b[0m\n\u001b[0m\u001b[1;32m    101\u001b[0m \u001b[0;34m\u001b[0m\u001b[0m\n\u001b[1;32m    102\u001b[0m         \u001b[0;31m# create a dataset splits\u001b[0m\u001b[0;34m\u001b[0m\u001b[0;34m\u001b[0m\u001b[0;34m\u001b[0m\u001b[0m\n",
      "\u001b[0;32m~/Desktop/Projects/FYP/unsupervised-pseuso-LiDAR/dataloaders.py\u001b[0m in \u001b[0;36m__init__\u001b[0;34m(self, *args, **kwargs)\u001b[0m\n\u001b[1;32m     99\u001b[0m     \u001b[0;32mdef\u001b[0m \u001b[0m__init__\u001b[0m\u001b[0;34m(\u001b[0m\u001b[0mself\u001b[0m\u001b[0;34m,\u001b[0m \u001b[0;34m*\u001b[0m\u001b[0margs\u001b[0m\u001b[0;34m,\u001b[0m \u001b[0;34m**\u001b[0m\u001b[0mkwargs\u001b[0m\u001b[0;34m)\u001b[0m\u001b[0;34m:\u001b[0m\u001b[0;34m\u001b[0m\u001b[0;34m\u001b[0m\u001b[0m\n\u001b[1;32m    100\u001b[0m         \u001b[0msuper\u001b[0m\u001b[0;34m(\u001b[0m\u001b[0mUnSupKittiDataset\u001b[0m\u001b[0;34m,\u001b[0m \u001b[0mself\u001b[0m\u001b[0;34m)\u001b[0m\u001b[0;34m.\u001b[0m\u001b[0m__init__\u001b[0m\u001b[0;34m(\u001b[0m\u001b[0;34m*\u001b[0m\u001b[0margs\u001b[0m\u001b[0;34m,\u001b[0m \u001b[0;34m**\u001b[0m\u001b[0mkwargs\u001b[0m\u001b[0;34m)\u001b[0m\u001b[0;34m\u001b[0m\u001b[0;34m\u001b[0m\u001b[0m\n\u001b[0;32m--> 101\u001b[0;31m         \u001b[0mself\u001b[0m\u001b[0;34m.\u001b[0m\u001b[0m_init_samples\u001b[0m\u001b[0;34m(\u001b[0m\u001b[0;34m)\u001b[0m\u001b[0;34m\u001b[0m\u001b[0;34m\u001b[0m\u001b[0m\n\u001b[0m\u001b[1;32m    102\u001b[0m \u001b[0;34m\u001b[0m\u001b[0m\n\u001b[1;32m    103\u001b[0m     \u001b[0;32mdef\u001b[0m \u001b[0m_init_samples\u001b[0m\u001b[0;34m(\u001b[0m\u001b[0mself\u001b[0m\u001b[0;34m)\u001b[0m\u001b[0;34m:\u001b[0m\u001b[0;34m\u001b[0m\u001b[0;34m\u001b[0m\u001b[0m\n",
      "\u001b[0;32m~/Desktop/Projects/FYP/unsupervised-pseuso-LiDAR/dataloaders.py\u001b[0m in \u001b[0;36m_init_samples\u001b[0;34m(self)\u001b[0m\n\u001b[1;32m    116\u001b[0m \u001b[0;34m\u001b[0m\u001b[0m\n\u001b[1;32m    117\u001b[0m             \u001b[0mcalib_dir\u001b[0m \u001b[0;34m=\u001b[0m \u001b[0msample_dirs\u001b[0m\u001b[0;34m[\u001b[0m\u001b[0;36m0\u001b[0m\u001b[0;34m]\u001b[0m\u001b[0;34m[\u001b[0m\u001b[0;34m:\u001b[0m\u001b[0;36m29\u001b[0m\u001b[0;34m]\u001b[0m \u001b[0;31m# mac - 20 , beauty - 29\u001b[0m\u001b[0;34m\u001b[0m\u001b[0;34m\u001b[0m\u001b[0m\n\u001b[0;32m--> 118\u001b[0;31m             \u001b[0mcalib\u001b[0m     \u001b[0;34m=\u001b[0m \u001b[0mCalibration\u001b[0m\u001b[0;34m(\u001b[0m\u001b[0mcalib_dir\u001b[0m\u001b[0;34m)\u001b[0m\u001b[0;34m\u001b[0m\u001b[0;34m\u001b[0m\u001b[0m\n\u001b[0m\u001b[1;32m    119\u001b[0m             \u001b[0msample\u001b[0m\u001b[0;34m[\u001b[0m\u001b[0;34m'intrinsics'\u001b[0m\u001b[0;34m]\u001b[0m \u001b[0;34m=\u001b[0m \u001b[0mtorch\u001b[0m\u001b[0;34m.\u001b[0m\u001b[0mfrom_numpy\u001b[0m\u001b[0;34m(\u001b[0m\u001b[0mcalib\u001b[0m\u001b[0;34m.\u001b[0m\u001b[0mP\u001b[0m\u001b[0;34m)\u001b[0m\u001b[0;34m\u001b[0m\u001b[0;34m\u001b[0m\u001b[0m\n\u001b[1;32m    120\u001b[0m \u001b[0;34m\u001b[0m\u001b[0m\n",
      "\u001b[0;32m~/Desktop/Projects/FYP/unsupervised-pseuso-LiDAR/geometry/calibration.py\u001b[0m in \u001b[0;36m__init__\u001b[0;34m(self, kitti_filepath)\u001b[0m\n\u001b[1;32m     37\u001b[0m \u001b[0;34m\u001b[0m\u001b[0m\n\u001b[1;32m     38\u001b[0m         \u001b[0mself\u001b[0m\u001b[0;34m.\u001b[0m\u001b[0mkitti_filepath\u001b[0m \u001b[0;34m=\u001b[0m \u001b[0mkitti_filepath\u001b[0m\u001b[0;34m\u001b[0m\u001b[0;34m\u001b[0m\u001b[0m\n\u001b[0;32m---> 39\u001b[0;31m         \u001b[0mcalib_velo_to_cam\u001b[0m \u001b[0;34m=\u001b[0m \u001b[0mself\u001b[0m\u001b[0;34m.\u001b[0m\u001b[0mread_calib_file\u001b[0m\u001b[0;34m(\u001b[0m\u001b[0mkitti_filepath\u001b[0m \u001b[0;34m+\u001b[0m \u001b[0;34m\"calib_velo_to_cam.txt\"\u001b[0m\u001b[0;34m)\u001b[0m\u001b[0;34m\u001b[0m\u001b[0;34m\u001b[0m\u001b[0m\n\u001b[0m\u001b[1;32m     40\u001b[0m         \u001b[0mcalib_cam_to_cam\u001b[0m  \u001b[0;34m=\u001b[0m \u001b[0mself\u001b[0m\u001b[0;34m.\u001b[0m\u001b[0mread_calib_file\u001b[0m\u001b[0;34m(\u001b[0m\u001b[0mkitti_filepath\u001b[0m \u001b[0;34m+\u001b[0m \u001b[0;34m\"calib_cam_to_cam.txt\"\u001b[0m\u001b[0;34m)\u001b[0m\u001b[0;34m\u001b[0m\u001b[0;34m\u001b[0m\u001b[0m\n\u001b[1;32m     41\u001b[0m \u001b[0;34m\u001b[0m\u001b[0m\n",
      "\u001b[0;32m~/Desktop/Projects/FYP/unsupervised-pseuso-LiDAR/geometry/calibration.py\u001b[0m in \u001b[0;36mread_calib_file\u001b[0;34m(self, filepath)\u001b[0m\n\u001b[1;32m     57\u001b[0m \u001b[0;34m\u001b[0m\u001b[0m\n\u001b[1;32m     58\u001b[0m         \u001b[0mdata\u001b[0m \u001b[0;34m=\u001b[0m \u001b[0;34m{\u001b[0m\u001b[0;34m}\u001b[0m\u001b[0;34m\u001b[0m\u001b[0;34m\u001b[0m\u001b[0m\n\u001b[0;32m---> 59\u001b[0;31m         \u001b[0;32mwith\u001b[0m \u001b[0mopen\u001b[0m\u001b[0;34m(\u001b[0m\u001b[0mfilepath\u001b[0m\u001b[0;34m,\u001b[0m \u001b[0;34m\"r\"\u001b[0m\u001b[0;34m)\u001b[0m \u001b[0;32mas\u001b[0m \u001b[0mf\u001b[0m\u001b[0;34m:\u001b[0m\u001b[0;34m\u001b[0m\u001b[0;34m\u001b[0m\u001b[0m\n\u001b[0m\u001b[1;32m     60\u001b[0m             \u001b[0;32mfor\u001b[0m \u001b[0mline\u001b[0m \u001b[0;32min\u001b[0m \u001b[0mf\u001b[0m\u001b[0;34m.\u001b[0m\u001b[0mreadlines\u001b[0m\u001b[0;34m(\u001b[0m\u001b[0;34m)\u001b[0m\u001b[0;34m:\u001b[0m\u001b[0;34m\u001b[0m\u001b[0;34m\u001b[0m\u001b[0m\n\u001b[1;32m     61\u001b[0m                 \u001b[0mline\u001b[0m \u001b[0;34m=\u001b[0m \u001b[0mline\u001b[0m\u001b[0;34m.\u001b[0m\u001b[0mrstrip\u001b[0m\u001b[0;34m(\u001b[0m\u001b[0;34m)\u001b[0m\u001b[0;34m\u001b[0m\u001b[0;34m\u001b[0m\u001b[0m\n",
      "\u001b[0;31mFileNotFoundError\u001b[0m: [Errno 2] No such file or directory: '../DATASETS/KITTI/2011_09_26/calib_velo_to_cam.txt'"
     ]
    }
   ],
   "source": [
    "from trainer import *\n",
    "\n",
    "with open('configs/test_config.yaml') as file:\n",
    "    config = yaml.full_load(file)\n",
    " \n",
    "trainer = Trainer(config)"
   ]
  },
  {
   "cell_type": "code",
   "execution_count": null,
   "id": "bf752af7",
   "metadata": {},
   "outputs": [],
   "source": [
    "dataset = trainer.dataset\n",
    "sample = dataset.__getitem__(100)"
   ]
  },
  {
   "cell_type": "code",
   "execution_count": null,
   "id": "a5db69cd",
   "metadata": {},
   "outputs": [],
   "source": [
    "poses =  sample['oxts']\n",
    "poses = [pose.unsqueeze(0) for pose in poses]\n",
    "poses"
   ]
  },
  {
   "cell_type": "code",
   "execution_count": null,
   "id": "e2b929cf",
   "metadata": {},
   "outputs": [],
   "source": [
    "list(sample)"
   ]
  },
  {
   "cell_type": "markdown",
   "id": "c5f5f156",
   "metadata": {},
   "source": [
    "# Understanding the Inverse Warp"
   ]
  },
  {
   "cell_type": "code",
   "execution_count": null,
   "id": "5d34daaa",
   "metadata": {},
   "outputs": [],
   "source": [
    "from copy import deepcopy\n",
    "from utils.transforms import UnNormalize\n",
    "\n",
    "unnormalize = UnNormalize((0.5, 0.5, 0.5), (0.5, 0.5, 0.5))\n",
    "\n",
    "target   = deepcopy(unnormalize(sample['tgt']))\n",
    "ref_imgs = [deepcopy(unnormalize(ref)) for ref in sample['ref_imgs']]\n",
    "depth    = deepcopy(sample['groundtruth'])\n",
    "intrinsics = deepcopy(sample['intrinsics'])"
   ]
  },
  {
   "cell_type": "code",
   "execution_count": null,
   "id": "020a1e78",
   "metadata": {},
   "outputs": [],
   "source": [
    "img_plot  = np.transpose(target.squeeze().cpu().detach().numpy(), (1, 2, 0))\n",
    "refs_plot = [np.transpose(img.squeeze().cpu().detach().numpy(), (1, 2, 0)) for img in ref_imgs]"
   ]
  },
  {
   "cell_type": "code",
   "execution_count": null,
   "id": "db8f5e8d",
   "metadata": {},
   "outputs": [],
   "source": [
    "fig, axs = plt.subplots(4, figsize=(20, 20))\n",
    "axs[0].imshow(refs_plot[0])\n",
    "axs[0].set_title('t-1')\n",
    "axs[1].imshow(img_plot)\n",
    "axs[1].set_title('Target')\n",
    "axs[2].imshow(refs_plot[1])\n",
    "axs[2].set_title('t+1')\n",
    "axs[3].imshow(depth)\n",
    "axs[3].set_title('gt')"
   ]
  },
  {
   "cell_type": "code",
   "execution_count": null,
   "id": "09b71715",
   "metadata": {},
   "outputs": [],
   "source": [
    "from geometry.pose_geometry import inverse_warp, disp_to_depth"
   ]
  },
  {
   "cell_type": "code",
   "execution_count": null,
   "id": "2f1d0d02",
   "metadata": {},
   "outputs": [],
   "source": [
    "poses[0]"
   ]
  },
  {
   "cell_type": "code",
   "execution_count": null,
   "id": "7ca53561",
   "metadata": {},
   "outputs": [],
   "source": [
    "# projected_imgs = [inverse_warp(ref_img.unsqueeze(0), depth.unsqueeze(0), pose, intrinsics, warp_test=True) for ref_img, pose in zip(ref_imgs, poses)]"
   ]
  },
  {
   "cell_type": "code",
   "execution_count": null,
   "id": "fb30d78f",
   "metadata": {},
   "outputs": [],
   "source": [
    "# torch.mean(torch.abs(target - projected_imgs[1]))"
   ]
  },
  {
   "cell_type": "markdown",
   "id": "eecc1501",
   "metadata": {},
   "source": [
    "## Pose plot"
   ]
  },
  {
   "cell_type": "code",
   "execution_count": null,
   "id": "72f396d2",
   "metadata": {},
   "outputs": [],
   "source": [
    "import plotly.graph_objects as go"
   ]
  },
  {
   "cell_type": "code",
   "execution_count": null,
   "id": "ada5eb5e",
   "metadata": {},
   "outputs": [],
   "source": [
    "fig = go.Figure(data=go.Scatter(\n",
    "    x = x,\n",
    "    y = y,\n",
    "    mode='markers',\n",
    "    marker=dict(\n",
    "        size=3,\n",
    "        color=z, #set color equal to a variable\n",
    "        colorscale='Viridis', # one of plotly colorscales\n",
    "        showscale=True\n",
    "    )\n",
    "))\n",
    "\n",
    "fig.show()\n"
   ]
  },
  {
   "cell_type": "code",
   "execution_count": null,
   "id": "aa040d26",
   "metadata": {},
   "outputs": [],
   "source": [
    "10 m/s"
   ]
  },
  {
   "cell_type": "code",
   "execution_count": null,
   "id": "d7dfd823",
   "metadata": {},
   "outputs": [],
   "source": []
  }
 ],
 "metadata": {
  "kernelspec": {
   "display_name": "Python 3 (ipykernel)",
   "language": "python",
   "name": "python3"
  },
  "language_info": {
   "codemirror_mode": {
    "name": "ipython",
    "version": 3
   },
   "file_extension": ".py",
   "mimetype": "text/x-python",
   "name": "python",
   "nbconvert_exporter": "python",
   "pygments_lexer": "ipython3",
   "version": "3.9.5"
  }
 },
 "nbformat": 4,
 "nbformat_minor": 5
}
