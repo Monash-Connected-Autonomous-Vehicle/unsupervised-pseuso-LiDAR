{
 "cells": [
  {
   "cell_type": "code",
   "execution_count": 1,
   "id": "38e058cf",
   "metadata": {},
   "outputs": [],
   "source": [
    "from trainer import *\n",
    "from dataloaders import UnSupKittiDataset"
   ]
  },
  {
   "cell_type": "code",
   "execution_count": 4,
   "id": "facd08b7",
   "metadata": {},
   "outputs": [
    {
     "name": "stdout",
     "output_type": "stream",
     "text": [
      "Training from scratch..\n",
      "Initializing samples..\n"
     ]
    }
   ],
   "source": [
    "with open('configs/basic_config.yaml') as file:\n",
    "    config = yaml.full_load(file)\n",
    "    \n",
    "trainer = Trainer(config)"
   ]
  },
  {
   "cell_type": "code",
   "execution_count": null,
   "id": "a25a5979",
   "metadata": {},
   "outputs": [],
   "source": [
    "batch = next(iter(data_loader))"
   ]
  }
 ],
 "metadata": {
  "kernelspec": {
   "display_name": "Python 3",
   "language": "python",
   "name": "python3"
  },
  "language_info": {
   "codemirror_mode": {
    "name": "ipython",
    "version": 3
   },
   "file_extension": ".py",
   "mimetype": "text/x-python",
   "name": "python",
   "nbconvert_exporter": "python",
   "pygments_lexer": "ipython3",
   "version": "3.8.5"
  }
 },
 "nbformat": 4,
 "nbformat_minor": 5
}
